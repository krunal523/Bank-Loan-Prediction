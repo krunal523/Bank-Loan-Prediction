{
 "cells": [
  {
   "cell_type": "code",
   "execution_count": 1,
   "id": "535be903",
   "metadata": {},
   "outputs": [],
   "source": [
    "import numpy as np\n",
    "import pandas as pd\n",
    "from sklearn.feature_selection import SelectFromModel\n",
    "from sklearn.preprocessing import OneHotEncoder\n",
    "from sklearn.model_selection import train_test_split\n",
    "from sklearn.linear_model import LogisticRegression\n",
    "from sklearn.svm import SVC\n",
    "from sklearn.ensemble import RandomForestClassifier\n",
    "from sklearn.tree import DecisionTreeClassifier\n",
    "import seaborn as sns\n",
    "from sklearn.model_selection import cross_val_score\n",
    "from matplotlib import pyplot as plt\n",
    "from sklearn.metrics import r2_score, explained_variance_score, confusion_matrix, accuracy_score, classification_report, log_loss\n",
    "from math import sqrt\n",
    "from sklearn.model_selection import RandomizedSearchCV, GridSearchCV\n"
   ]
  },
  {
   "cell_type": "code",
   "execution_count": 2,
   "id": "65dc9e69",
   "metadata": {},
   "outputs": [],
   "source": [
    "train = pd.read_csv(\"Train (1).csv\")\n",
    "test = pd.read_csv(\"Test.csv\")"
   ]
  },
  {
   "cell_type": "code",
   "execution_count": 3,
   "id": "0ae906ad",
   "metadata": {},
   "outputs": [
    {
     "name": "stdout",
     "output_type": "stream",
     "text": [
      "(135633, 26)\n",
      "(45211, 25)\n"
     ]
    }
   ],
   "source": [
    "print(train.shape)\n",
    "print(test.shape)"
   ]
  },
  {
   "cell_type": "code",
   "execution_count": 4,
   "id": "008e1181",
   "metadata": {},
   "outputs": [
    {
     "data": {
      "text/html": [
       "<div>\n",
       "<style scoped>\n",
       "    .dataframe tbody tr th:only-of-type {\n",
       "        vertical-align: middle;\n",
       "    }\n",
       "\n",
       "    .dataframe tbody tr th {\n",
       "        vertical-align: top;\n",
       "    }\n",
       "\n",
       "    .dataframe thead th {\n",
       "        text-align: right;\n",
       "    }\n",
       "</style>\n",
       "<table border=\"1\" class=\"dataframe\">\n",
       "  <thead>\n",
       "    <tr style=\"text-align: right;\">\n",
       "      <th></th>\n",
       "      <th>Customer_ID</th>\n",
       "      <th>Nationality</th>\n",
       "      <th>State</th>\n",
       "      <th>Region</th>\n",
       "      <th>Num_dependants</th>\n",
       "      <th>Social_Media_presence</th>\n",
       "      <th>International_Travel_History</th>\n",
       "      <th>Gender</th>\n",
       "      <th>Months_at_Current_address</th>\n",
       "      <th>Age</th>\n",
       "      <th>...</th>\n",
       "      <th>Loan</th>\n",
       "      <th>Contact</th>\n",
       "      <th>Day</th>\n",
       "      <th>Month</th>\n",
       "      <th>Duration</th>\n",
       "      <th>contacts_during_campaign</th>\n",
       "      <th>pdays</th>\n",
       "      <th>previous_contacts</th>\n",
       "      <th>poutcome</th>\n",
       "      <th>target_variable</th>\n",
       "    </tr>\n",
       "  </thead>\n",
       "  <tbody>\n",
       "    <tr>\n",
       "      <th>0</th>\n",
       "      <td>PQ100001</td>\n",
       "      <td>IN</td>\n",
       "      <td>AA</td>\n",
       "      <td>Region-1</td>\n",
       "      <td>2</td>\n",
       "      <td>Y</td>\n",
       "      <td>Y</td>\n",
       "      <td>M</td>\n",
       "      <td>175</td>\n",
       "      <td>58</td>\n",
       "      <td>...</td>\n",
       "      <td>no</td>\n",
       "      <td>unknown</td>\n",
       "      <td>5</td>\n",
       "      <td>may</td>\n",
       "      <td>261</td>\n",
       "      <td>1</td>\n",
       "      <td>-1</td>\n",
       "      <td>0</td>\n",
       "      <td>unknown</td>\n",
       "      <td>1</td>\n",
       "    </tr>\n",
       "    <tr>\n",
       "      <th>1</th>\n",
       "      <td>PQ100002</td>\n",
       "      <td>USA</td>\n",
       "      <td>AB</td>\n",
       "      <td>Region-2</td>\n",
       "      <td>1</td>\n",
       "      <td>N</td>\n",
       "      <td>N</td>\n",
       "      <td>F</td>\n",
       "      <td>150</td>\n",
       "      <td>44</td>\n",
       "      <td>...</td>\n",
       "      <td>no</td>\n",
       "      <td>unknown</td>\n",
       "      <td>5</td>\n",
       "      <td>may</td>\n",
       "      <td>151</td>\n",
       "      <td>1</td>\n",
       "      <td>-1</td>\n",
       "      <td>0</td>\n",
       "      <td>unknown</td>\n",
       "      <td>1</td>\n",
       "    </tr>\n",
       "    <tr>\n",
       "      <th>2</th>\n",
       "      <td>PQ100003</td>\n",
       "      <td>CA</td>\n",
       "      <td>AC</td>\n",
       "      <td>Region-3</td>\n",
       "      <td>1</td>\n",
       "      <td>N</td>\n",
       "      <td>Y</td>\n",
       "      <td>M</td>\n",
       "      <td>151</td>\n",
       "      <td>33</td>\n",
       "      <td>...</td>\n",
       "      <td>yes</td>\n",
       "      <td>unknown</td>\n",
       "      <td>5</td>\n",
       "      <td>may</td>\n",
       "      <td>76</td>\n",
       "      <td>1</td>\n",
       "      <td>-1</td>\n",
       "      <td>0</td>\n",
       "      <td>unknown</td>\n",
       "      <td>1</td>\n",
       "    </tr>\n",
       "    <tr>\n",
       "      <th>3</th>\n",
       "      <td>PQ100004</td>\n",
       "      <td>UK</td>\n",
       "      <td>AD</td>\n",
       "      <td>Region-4</td>\n",
       "      <td>1</td>\n",
       "      <td>Y</td>\n",
       "      <td>N</td>\n",
       "      <td>F</td>\n",
       "      <td>155</td>\n",
       "      <td>47</td>\n",
       "      <td>...</td>\n",
       "      <td>no</td>\n",
       "      <td>unknown</td>\n",
       "      <td>5</td>\n",
       "      <td>may</td>\n",
       "      <td>92</td>\n",
       "      <td>1</td>\n",
       "      <td>-1</td>\n",
       "      <td>0</td>\n",
       "      <td>unknown</td>\n",
       "      <td>1</td>\n",
       "    </tr>\n",
       "    <tr>\n",
       "      <th>4</th>\n",
       "      <td>PQ100005</td>\n",
       "      <td>PK</td>\n",
       "      <td>AE</td>\n",
       "      <td>Region-5</td>\n",
       "      <td>0</td>\n",
       "      <td>Y</td>\n",
       "      <td>Y</td>\n",
       "      <td>M</td>\n",
       "      <td>120</td>\n",
       "      <td>33</td>\n",
       "      <td>...</td>\n",
       "      <td>no</td>\n",
       "      <td>unknown</td>\n",
       "      <td>5</td>\n",
       "      <td>may</td>\n",
       "      <td>198</td>\n",
       "      <td>1</td>\n",
       "      <td>-1</td>\n",
       "      <td>0</td>\n",
       "      <td>unknown</td>\n",
       "      <td>1</td>\n",
       "    </tr>\n",
       "  </tbody>\n",
       "</table>\n",
       "<p>5 rows × 26 columns</p>\n",
       "</div>"
      ],
      "text/plain": [
       "  Customer_ID Nationality State    Region  Num_dependants  \\\n",
       "0    PQ100001          IN    AA  Region-1               2   \n",
       "1    PQ100002         USA    AB  Region-2               1   \n",
       "2    PQ100003          CA    AC  Region-3               1   \n",
       "3    PQ100004          UK    AD  Region-4               1   \n",
       "4    PQ100005          PK    AE  Region-5               0   \n",
       "\n",
       "  Social_Media_presence International_Travel_History Gender  \\\n",
       "0                     Y                            Y      M   \n",
       "1                     N                            N      F   \n",
       "2                     N                            Y      M   \n",
       "3                     Y                            N      F   \n",
       "4                     Y                            Y      M   \n",
       "\n",
       "   Months_at_Current_address  Age  ... Loan  Contact Day Month  Duration  \\\n",
       "0                        175   58  ...   no  unknown   5   may       261   \n",
       "1                        150   44  ...   no  unknown   5   may       151   \n",
       "2                        151   33  ...  yes  unknown   5   may        76   \n",
       "3                        155   47  ...   no  unknown   5   may        92   \n",
       "4                        120   33  ...   no  unknown   5   may       198   \n",
       "\n",
       "  contacts_during_campaign pdays previous_contacts  poutcome target_variable  \n",
       "0                        1    -1                 0   unknown               1  \n",
       "1                        1    -1                 0   unknown               1  \n",
       "2                        1    -1                 0   unknown               1  \n",
       "3                        1    -1                 0   unknown               1  \n",
       "4                        1    -1                 0   unknown               1  \n",
       "\n",
       "[5 rows x 26 columns]"
      ]
     },
     "execution_count": 4,
     "metadata": {},
     "output_type": "execute_result"
    }
   ],
   "source": [
    "train.head()"
   ]
  },
  {
   "cell_type": "code",
   "execution_count": 5,
   "id": "7b3cd94d",
   "metadata": {},
   "outputs": [
    {
     "data": {
      "text/plain": [
       "Customer_ID                     0\n",
       "Nationality                     0\n",
       "State                           0\n",
       "Region                          0\n",
       "Num_dependants                  0\n",
       "Social_Media_presence           0\n",
       "International_Travel_History    0\n",
       "Gender                          0\n",
       "Months_at_Current_address       0\n",
       "Age                             0\n",
       "Job                             0\n",
       "Marital Status                  0\n",
       "Education                       0\n",
       "Default                         0\n",
       "Balance                         0\n",
       "Housing                         0\n",
       "Loan                            0\n",
       "Contact                         0\n",
       "Day                             0\n",
       "Month                           0\n",
       "Duration                        0\n",
       "contacts_during_campaign        0\n",
       "pdays                           0\n",
       "previous_contacts               0\n",
       "poutcome                        0\n",
       "target_variable                 0\n",
       "dtype: int64"
      ]
     },
     "execution_count": 5,
     "metadata": {},
     "output_type": "execute_result"
    }
   ],
   "source": [
    "train.isnull().sum()"
   ]
  },
  {
   "cell_type": "code",
   "execution_count": 6,
   "id": "1bdf3e77",
   "metadata": {},
   "outputs": [
    {
     "name": "stdout",
     "output_type": "stream",
     "text": [
      "18\n",
      "99\n"
     ]
    }
   ],
   "source": [
    "print(train.Age.min())\n",
    "print(train.Age.max())"
   ]
  },
  {
   "cell_type": "code",
   "execution_count": 7,
   "id": "18981648",
   "metadata": {},
   "outputs": [],
   "source": [
    "bins= [18,26,66,100]\n",
    "labels = ['Young','Adult','SeniorCitizen']\n",
    "train['AgeGroup'] = pd.cut(train['Age'], bins=bins, labels=labels, right=False)\n",
    "test['AgeGroup'] = pd.cut(test['Age'], bins=bins, labels=labels, right=False)"
   ]
  },
  {
   "cell_type": "code",
   "execution_count": 8,
   "id": "14cb8f45",
   "metadata": {},
   "outputs": [
    {
     "name": "stdout",
     "output_type": "stream",
     "text": [
      "-8019\n",
      "102195\n"
     ]
    }
   ],
   "source": [
    "print(train.Balance.min())\n",
    "print(train.Balance.max())"
   ]
  },
  {
   "cell_type": "code",
   "execution_count": 9,
   "id": "616a9b5f",
   "metadata": {},
   "outputs": [],
   "source": [
    "bins= [-8019,0,1,102196]\n",
    "labels = ['Negative Balance','Zero Balance','Positive Balance']\n",
    "train['BalanceGroup'] = pd.cut(train['Balance'], bins=bins, labels=labels, right=False)\n",
    "test['BalanceGroup'] = pd.cut(train['Balance'], bins=bins, labels=labels, right=False)"
   ]
  },
  {
   "cell_type": "code",
   "execution_count": 10,
   "id": "db9224ba",
   "metadata": {},
   "outputs": [
    {
     "data": {
      "text/html": [
       "<div>\n",
       "<style scoped>\n",
       "    .dataframe tbody tr th:only-of-type {\n",
       "        vertical-align: middle;\n",
       "    }\n",
       "\n",
       "    .dataframe tbody tr th {\n",
       "        vertical-align: top;\n",
       "    }\n",
       "\n",
       "    .dataframe thead th {\n",
       "        text-align: right;\n",
       "    }\n",
       "</style>\n",
       "<table border=\"1\" class=\"dataframe\">\n",
       "  <thead>\n",
       "    <tr style=\"text-align: right;\">\n",
       "      <th></th>\n",
       "      <th>Customer_ID</th>\n",
       "      <th>Nationality</th>\n",
       "      <th>State</th>\n",
       "      <th>Region</th>\n",
       "      <th>Num_dependants</th>\n",
       "      <th>Social_Media_presence</th>\n",
       "      <th>International_Travel_History</th>\n",
       "      <th>Gender</th>\n",
       "      <th>Months_at_Current_address</th>\n",
       "      <th>Job</th>\n",
       "      <th>...</th>\n",
       "      <th>Contact</th>\n",
       "      <th>Day</th>\n",
       "      <th>Month</th>\n",
       "      <th>Duration</th>\n",
       "      <th>contacts_during_campaign</th>\n",
       "      <th>pdays</th>\n",
       "      <th>previous_contacts</th>\n",
       "      <th>poutcome</th>\n",
       "      <th>AgeGroup</th>\n",
       "      <th>BalanceGroup</th>\n",
       "    </tr>\n",
       "  </thead>\n",
       "  <tbody>\n",
       "    <tr>\n",
       "      <th>0</th>\n",
       "      <td>PT400001</td>\n",
       "      <td>IN</td>\n",
       "      <td>AA</td>\n",
       "      <td>Region-1</td>\n",
       "      <td>2</td>\n",
       "      <td>Y</td>\n",
       "      <td>Y</td>\n",
       "      <td>M</td>\n",
       "      <td>183</td>\n",
       "      <td>management</td>\n",
       "      <td>...</td>\n",
       "      <td>unknown</td>\n",
       "      <td>6</td>\n",
       "      <td>may</td>\n",
       "      <td>281</td>\n",
       "      <td>2</td>\n",
       "      <td>-1</td>\n",
       "      <td>0</td>\n",
       "      <td>unknown</td>\n",
       "      <td>Adult</td>\n",
       "      <td>Positive Balance</td>\n",
       "    </tr>\n",
       "    <tr>\n",
       "      <th>1</th>\n",
       "      <td>PT400002</td>\n",
       "      <td>USA</td>\n",
       "      <td>AB</td>\n",
       "      <td>Region-2</td>\n",
       "      <td>1</td>\n",
       "      <td>N</td>\n",
       "      <td>N</td>\n",
       "      <td>F</td>\n",
       "      <td>150</td>\n",
       "      <td>technician</td>\n",
       "      <td>...</td>\n",
       "      <td>unknown</td>\n",
       "      <td>5</td>\n",
       "      <td>may</td>\n",
       "      <td>164</td>\n",
       "      <td>2</td>\n",
       "      <td>-1</td>\n",
       "      <td>0</td>\n",
       "      <td>unknown</td>\n",
       "      <td>Adult</td>\n",
       "      <td>Positive Balance</td>\n",
       "    </tr>\n",
       "    <tr>\n",
       "      <th>2</th>\n",
       "      <td>PT400003</td>\n",
       "      <td>CA</td>\n",
       "      <td>AC</td>\n",
       "      <td>Region-3</td>\n",
       "      <td>1</td>\n",
       "      <td>N</td>\n",
       "      <td>Y</td>\n",
       "      <td>M</td>\n",
       "      <td>131</td>\n",
       "      <td>entrepreneur</td>\n",
       "      <td>...</td>\n",
       "      <td>unknown</td>\n",
       "      <td>5</td>\n",
       "      <td>may</td>\n",
       "      <td>122</td>\n",
       "      <td>2</td>\n",
       "      <td>-1</td>\n",
       "      <td>0</td>\n",
       "      <td>unknown</td>\n",
       "      <td>Adult</td>\n",
       "      <td>Positive Balance</td>\n",
       "    </tr>\n",
       "    <tr>\n",
       "      <th>3</th>\n",
       "      <td>PT400004</td>\n",
       "      <td>UK</td>\n",
       "      <td>AD</td>\n",
       "      <td>Region-4</td>\n",
       "      <td>1</td>\n",
       "      <td>Y</td>\n",
       "      <td>N</td>\n",
       "      <td>F</td>\n",
       "      <td>158</td>\n",
       "      <td>blue-collar</td>\n",
       "      <td>...</td>\n",
       "      <td>unknown</td>\n",
       "      <td>5</td>\n",
       "      <td>may</td>\n",
       "      <td>97</td>\n",
       "      <td>1</td>\n",
       "      <td>-1</td>\n",
       "      <td>0</td>\n",
       "      <td>unknown</td>\n",
       "      <td>Adult</td>\n",
       "      <td>Positive Balance</td>\n",
       "    </tr>\n",
       "    <tr>\n",
       "      <th>4</th>\n",
       "      <td>PT400005</td>\n",
       "      <td>PK</td>\n",
       "      <td>AE</td>\n",
       "      <td>Region-5</td>\n",
       "      <td>0</td>\n",
       "      <td>Y</td>\n",
       "      <td>Y</td>\n",
       "      <td>M</td>\n",
       "      <td>104</td>\n",
       "      <td>unknown</td>\n",
       "      <td>...</td>\n",
       "      <td>unknown</td>\n",
       "      <td>7</td>\n",
       "      <td>may</td>\n",
       "      <td>286</td>\n",
       "      <td>2</td>\n",
       "      <td>-1</td>\n",
       "      <td>0</td>\n",
       "      <td>unknown</td>\n",
       "      <td>Adult</td>\n",
       "      <td>Positive Balance</td>\n",
       "    </tr>\n",
       "    <tr>\n",
       "      <th>...</th>\n",
       "      <td>...</td>\n",
       "      <td>...</td>\n",
       "      <td>...</td>\n",
       "      <td>...</td>\n",
       "      <td>...</td>\n",
       "      <td>...</td>\n",
       "      <td>...</td>\n",
       "      <td>...</td>\n",
       "      <td>...</td>\n",
       "      <td>...</td>\n",
       "      <td>...</td>\n",
       "      <td>...</td>\n",
       "      <td>...</td>\n",
       "      <td>...</td>\n",
       "      <td>...</td>\n",
       "      <td>...</td>\n",
       "      <td>...</td>\n",
       "      <td>...</td>\n",
       "      <td>...</td>\n",
       "      <td>...</td>\n",
       "      <td>...</td>\n",
       "    </tr>\n",
       "    <tr>\n",
       "      <th>45206</th>\n",
       "      <td>PT445207</td>\n",
       "      <td>KE</td>\n",
       "      <td>AC</td>\n",
       "      <td>Region-2</td>\n",
       "      <td>5</td>\n",
       "      <td>N</td>\n",
       "      <td>Y</td>\n",
       "      <td>M</td>\n",
       "      <td>33</td>\n",
       "      <td>technician</td>\n",
       "      <td>...</td>\n",
       "      <td>cellular</td>\n",
       "      <td>18</td>\n",
       "      <td>nov</td>\n",
       "      <td>1088</td>\n",
       "      <td>3</td>\n",
       "      <td>-1</td>\n",
       "      <td>0</td>\n",
       "      <td>unknown</td>\n",
       "      <td>Adult</td>\n",
       "      <td>Positive Balance</td>\n",
       "    </tr>\n",
       "    <tr>\n",
       "      <th>45207</th>\n",
       "      <td>PT445208</td>\n",
       "      <td>IN</td>\n",
       "      <td>AD</td>\n",
       "      <td>Region-3</td>\n",
       "      <td>2</td>\n",
       "      <td>N</td>\n",
       "      <td>N</td>\n",
       "      <td>F</td>\n",
       "      <td>125</td>\n",
       "      <td>retired</td>\n",
       "      <td>...</td>\n",
       "      <td>cellular</td>\n",
       "      <td>18</td>\n",
       "      <td>nov</td>\n",
       "      <td>494</td>\n",
       "      <td>3</td>\n",
       "      <td>-1</td>\n",
       "      <td>0</td>\n",
       "      <td>unknown</td>\n",
       "      <td>SeniorCitizen</td>\n",
       "      <td>Positive Balance</td>\n",
       "    </tr>\n",
       "    <tr>\n",
       "      <th>45208</th>\n",
       "      <td>PT445209</td>\n",
       "      <td>USA</td>\n",
       "      <td>AE</td>\n",
       "      <td>Region-4</td>\n",
       "      <td>2</td>\n",
       "      <td>Y</td>\n",
       "      <td>Y</td>\n",
       "      <td>M</td>\n",
       "      <td>154</td>\n",
       "      <td>retired</td>\n",
       "      <td>...</td>\n",
       "      <td>cellular</td>\n",
       "      <td>19</td>\n",
       "      <td>nov</td>\n",
       "      <td>1244</td>\n",
       "      <td>5</td>\n",
       "      <td>184</td>\n",
       "      <td>3</td>\n",
       "      <td>success</td>\n",
       "      <td>SeniorCitizen</td>\n",
       "      <td>Positive Balance</td>\n",
       "    </tr>\n",
       "    <tr>\n",
       "      <th>45209</th>\n",
       "      <td>PT445210</td>\n",
       "      <td>CA</td>\n",
       "      <td>AF</td>\n",
       "      <td>Region-5</td>\n",
       "      <td>2</td>\n",
       "      <td>N</td>\n",
       "      <td>N</td>\n",
       "      <td>F</td>\n",
       "      <td>174</td>\n",
       "      <td>blue-collar</td>\n",
       "      <td>...</td>\n",
       "      <td>telephone</td>\n",
       "      <td>18</td>\n",
       "      <td>nov</td>\n",
       "      <td>514</td>\n",
       "      <td>4</td>\n",
       "      <td>-1</td>\n",
       "      <td>0</td>\n",
       "      <td>unknown</td>\n",
       "      <td>Adult</td>\n",
       "      <td>Positive Balance</td>\n",
       "    </tr>\n",
       "    <tr>\n",
       "      <th>45210</th>\n",
       "      <td>PT445211</td>\n",
       "      <td>UK</td>\n",
       "      <td>AG</td>\n",
       "      <td>Region-1</td>\n",
       "      <td>5</td>\n",
       "      <td>N</td>\n",
       "      <td>Y</td>\n",
       "      <td>M</td>\n",
       "      <td>171</td>\n",
       "      <td>entrepreneur</td>\n",
       "      <td>...</td>\n",
       "      <td>cellular</td>\n",
       "      <td>18</td>\n",
       "      <td>nov</td>\n",
       "      <td>481</td>\n",
       "      <td>2</td>\n",
       "      <td>188</td>\n",
       "      <td>11</td>\n",
       "      <td>other</td>\n",
       "      <td>Adult</td>\n",
       "      <td>Positive Balance</td>\n",
       "    </tr>\n",
       "  </tbody>\n",
       "</table>\n",
       "<p>45211 rows × 25 columns</p>\n",
       "</div>"
      ],
      "text/plain": [
       "      Customer_ID Nationality State    Region  Num_dependants  \\\n",
       "0        PT400001          IN    AA  Region-1               2   \n",
       "1        PT400002         USA    AB  Region-2               1   \n",
       "2        PT400003          CA    AC  Region-3               1   \n",
       "3        PT400004          UK    AD  Region-4               1   \n",
       "4        PT400005          PK    AE  Region-5               0   \n",
       "...           ...         ...   ...       ...             ...   \n",
       "45206    PT445207          KE    AC  Region-2               5   \n",
       "45207    PT445208          IN    AD  Region-3               2   \n",
       "45208    PT445209         USA    AE  Region-4               2   \n",
       "45209    PT445210          CA    AF  Region-5               2   \n",
       "45210    PT445211          UK    AG  Region-1               5   \n",
       "\n",
       "      Social_Media_presence International_Travel_History Gender  \\\n",
       "0                         Y                            Y      M   \n",
       "1                         N                            N      F   \n",
       "2                         N                            Y      M   \n",
       "3                         Y                            N      F   \n",
       "4                         Y                            Y      M   \n",
       "...                     ...                          ...    ...   \n",
       "45206                     N                            Y      M   \n",
       "45207                     N                            N      F   \n",
       "45208                     Y                            Y      M   \n",
       "45209                     N                            N      F   \n",
       "45210                     N                            Y      M   \n",
       "\n",
       "       Months_at_Current_address           Job  ...    Contact Day Month  \\\n",
       "0                            183    management  ...    unknown   6   may   \n",
       "1                            150    technician  ...    unknown   5   may   \n",
       "2                            131  entrepreneur  ...    unknown   5   may   \n",
       "3                            158   blue-collar  ...    unknown   5   may   \n",
       "4                            104       unknown  ...    unknown   7   may   \n",
       "...                          ...           ...  ...        ...  ..   ...   \n",
       "45206                         33    technician  ...   cellular  18   nov   \n",
       "45207                        125       retired  ...   cellular  18   nov   \n",
       "45208                        154       retired  ...   cellular  19   nov   \n",
       "45209                        174   blue-collar  ...  telephone  18   nov   \n",
       "45210                        171  entrepreneur  ...   cellular  18   nov   \n",
       "\n",
       "      Duration contacts_during_campaign pdays  previous_contacts poutcome  \\\n",
       "0          281                        2    -1                  0  unknown   \n",
       "1          164                        2    -1                  0  unknown   \n",
       "2          122                        2    -1                  0  unknown   \n",
       "3           97                        1    -1                  0  unknown   \n",
       "4          286                        2    -1                  0  unknown   \n",
       "...        ...                      ...   ...                ...      ...   \n",
       "45206     1088                        3    -1                  0  unknown   \n",
       "45207      494                        3    -1                  0  unknown   \n",
       "45208     1244                        5   184                  3  success   \n",
       "45209      514                        4    -1                  0  unknown   \n",
       "45210      481                        2   188                 11    other   \n",
       "\n",
       "            AgeGroup      BalanceGroup  \n",
       "0              Adult  Positive Balance  \n",
       "1              Adult  Positive Balance  \n",
       "2              Adult  Positive Balance  \n",
       "3              Adult  Positive Balance  \n",
       "4              Adult  Positive Balance  \n",
       "...              ...               ...  \n",
       "45206          Adult  Positive Balance  \n",
       "45207  SeniorCitizen  Positive Balance  \n",
       "45208  SeniorCitizen  Positive Balance  \n",
       "45209          Adult  Positive Balance  \n",
       "45210          Adult  Positive Balance  \n",
       "\n",
       "[45211 rows x 25 columns]"
      ]
     },
     "execution_count": 10,
     "metadata": {},
     "output_type": "execute_result"
    }
   ],
   "source": [
    "train1=train.drop(['Age','Balance'], axis = 1)\n",
    "test.drop(['Age','Balance'], axis = 1)"
   ]
  },
  {
   "cell_type": "code",
   "execution_count": 11,
   "id": "d0c44822",
   "metadata": {},
   "outputs": [],
   "source": [
    "for col in ['AgeGroup','BalanceGroup']:\n",
    "    train1[col]= train1[col].astype('object')"
   ]
  },
  {
   "cell_type": "code",
   "execution_count": 12,
   "id": "035148bf",
   "metadata": {},
   "outputs": [
    {
     "data": {
      "text/plain": [
       "Customer_ID                     object\n",
       "Nationality                     object\n",
       "State                           object\n",
       "Region                          object\n",
       "Num_dependants                   int64\n",
       "Social_Media_presence           object\n",
       "International_Travel_History    object\n",
       "Gender                          object\n",
       "Months_at_Current_address        int64\n",
       "Job                             object\n",
       "Marital Status                  object\n",
       "Education                       object\n",
       "Default                         object\n",
       "Housing                         object\n",
       "Loan                            object\n",
       "Contact                         object\n",
       "Day                              int64\n",
       "Month                           object\n",
       "Duration                         int64\n",
       "contacts_during_campaign         int64\n",
       "pdays                            int64\n",
       "previous_contacts                int64\n",
       "poutcome                        object\n",
       "target_variable                  int64\n",
       "AgeGroup                        object\n",
       "BalanceGroup                    object\n",
       "dtype: object"
      ]
     },
     "execution_count": 12,
     "metadata": {},
     "output_type": "execute_result"
    }
   ],
   "source": [
    "train1.dtypes"
   ]
  },
  {
   "cell_type": "code",
   "execution_count": 13,
   "id": "3bd6adf8",
   "metadata": {},
   "outputs": [
    {
     "data": {
      "text/html": [
       "<div>\n",
       "<style scoped>\n",
       "    .dataframe tbody tr th:only-of-type {\n",
       "        vertical-align: middle;\n",
       "    }\n",
       "\n",
       "    .dataframe tbody tr th {\n",
       "        vertical-align: top;\n",
       "    }\n",
       "\n",
       "    .dataframe thead th {\n",
       "        text-align: right;\n",
       "    }\n",
       "</style>\n",
       "<table border=\"1\" class=\"dataframe\">\n",
       "  <thead>\n",
       "    <tr style=\"text-align: right;\">\n",
       "      <th></th>\n",
       "      <th>Customer_ID</th>\n",
       "      <th>Nationality</th>\n",
       "      <th>State</th>\n",
       "      <th>Region</th>\n",
       "      <th>Num_dependants</th>\n",
       "      <th>Social_Media_presence</th>\n",
       "      <th>International_Travel_History</th>\n",
       "      <th>Gender</th>\n",
       "      <th>Months_at_Current_address</th>\n",
       "      <th>Job</th>\n",
       "      <th>...</th>\n",
       "      <th>Day</th>\n",
       "      <th>Month</th>\n",
       "      <th>Duration</th>\n",
       "      <th>contacts_during_campaign</th>\n",
       "      <th>pdays</th>\n",
       "      <th>previous_contacts</th>\n",
       "      <th>poutcome</th>\n",
       "      <th>target_variable</th>\n",
       "      <th>AgeGroup</th>\n",
       "      <th>BalanceGroup</th>\n",
       "    </tr>\n",
       "  </thead>\n",
       "  <tbody>\n",
       "    <tr>\n",
       "      <th>0</th>\n",
       "      <td>PQ100001</td>\n",
       "      <td>IN</td>\n",
       "      <td>AA</td>\n",
       "      <td>Region-1</td>\n",
       "      <td>2</td>\n",
       "      <td>Y</td>\n",
       "      <td>Y</td>\n",
       "      <td>M</td>\n",
       "      <td>175</td>\n",
       "      <td>management</td>\n",
       "      <td>...</td>\n",
       "      <td>5</td>\n",
       "      <td>may</td>\n",
       "      <td>261</td>\n",
       "      <td>1</td>\n",
       "      <td>-1</td>\n",
       "      <td>0</td>\n",
       "      <td>unknown</td>\n",
       "      <td>0</td>\n",
       "      <td>Adult</td>\n",
       "      <td>Positive Balance</td>\n",
       "    </tr>\n",
       "    <tr>\n",
       "      <th>1</th>\n",
       "      <td>PQ100002</td>\n",
       "      <td>USA</td>\n",
       "      <td>AB</td>\n",
       "      <td>Region-2</td>\n",
       "      <td>1</td>\n",
       "      <td>N</td>\n",
       "      <td>N</td>\n",
       "      <td>F</td>\n",
       "      <td>150</td>\n",
       "      <td>technician</td>\n",
       "      <td>...</td>\n",
       "      <td>5</td>\n",
       "      <td>may</td>\n",
       "      <td>151</td>\n",
       "      <td>1</td>\n",
       "      <td>-1</td>\n",
       "      <td>0</td>\n",
       "      <td>unknown</td>\n",
       "      <td>0</td>\n",
       "      <td>Adult</td>\n",
       "      <td>Positive Balance</td>\n",
       "    </tr>\n",
       "    <tr>\n",
       "      <th>2</th>\n",
       "      <td>PQ100003</td>\n",
       "      <td>CA</td>\n",
       "      <td>AC</td>\n",
       "      <td>Region-3</td>\n",
       "      <td>1</td>\n",
       "      <td>N</td>\n",
       "      <td>Y</td>\n",
       "      <td>M</td>\n",
       "      <td>151</td>\n",
       "      <td>entrepreneur</td>\n",
       "      <td>...</td>\n",
       "      <td>5</td>\n",
       "      <td>may</td>\n",
       "      <td>76</td>\n",
       "      <td>1</td>\n",
       "      <td>-1</td>\n",
       "      <td>0</td>\n",
       "      <td>unknown</td>\n",
       "      <td>0</td>\n",
       "      <td>Adult</td>\n",
       "      <td>Positive Balance</td>\n",
       "    </tr>\n",
       "    <tr>\n",
       "      <th>3</th>\n",
       "      <td>PQ100004</td>\n",
       "      <td>UK</td>\n",
       "      <td>AD</td>\n",
       "      <td>Region-4</td>\n",
       "      <td>1</td>\n",
       "      <td>Y</td>\n",
       "      <td>N</td>\n",
       "      <td>F</td>\n",
       "      <td>155</td>\n",
       "      <td>blue-collar</td>\n",
       "      <td>...</td>\n",
       "      <td>5</td>\n",
       "      <td>may</td>\n",
       "      <td>92</td>\n",
       "      <td>1</td>\n",
       "      <td>-1</td>\n",
       "      <td>0</td>\n",
       "      <td>unknown</td>\n",
       "      <td>0</td>\n",
       "      <td>Adult</td>\n",
       "      <td>Positive Balance</td>\n",
       "    </tr>\n",
       "    <tr>\n",
       "      <th>4</th>\n",
       "      <td>PQ100005</td>\n",
       "      <td>PK</td>\n",
       "      <td>AE</td>\n",
       "      <td>Region-5</td>\n",
       "      <td>0</td>\n",
       "      <td>Y</td>\n",
       "      <td>Y</td>\n",
       "      <td>M</td>\n",
       "      <td>120</td>\n",
       "      <td>unknown</td>\n",
       "      <td>...</td>\n",
       "      <td>5</td>\n",
       "      <td>may</td>\n",
       "      <td>198</td>\n",
       "      <td>1</td>\n",
       "      <td>-1</td>\n",
       "      <td>0</td>\n",
       "      <td>unknown</td>\n",
       "      <td>0</td>\n",
       "      <td>Adult</td>\n",
       "      <td>Positive Balance</td>\n",
       "    </tr>\n",
       "  </tbody>\n",
       "</table>\n",
       "<p>5 rows × 26 columns</p>\n",
       "</div>"
      ],
      "text/plain": [
       "  Customer_ID Nationality State    Region  Num_dependants  \\\n",
       "0    PQ100001          IN    AA  Region-1               2   \n",
       "1    PQ100002         USA    AB  Region-2               1   \n",
       "2    PQ100003          CA    AC  Region-3               1   \n",
       "3    PQ100004          UK    AD  Region-4               1   \n",
       "4    PQ100005          PK    AE  Region-5               0   \n",
       "\n",
       "  Social_Media_presence International_Travel_History Gender  \\\n",
       "0                     Y                            Y      M   \n",
       "1                     N                            N      F   \n",
       "2                     N                            Y      M   \n",
       "3                     Y                            N      F   \n",
       "4                     Y                            Y      M   \n",
       "\n",
       "   Months_at_Current_address           Job  ... Day Month Duration  \\\n",
       "0                        175    management  ...   5   may      261   \n",
       "1                        150    technician  ...   5   may      151   \n",
       "2                        151  entrepreneur  ...   5   may       76   \n",
       "3                        155   blue-collar  ...   5   may       92   \n",
       "4                        120       unknown  ...   5   may      198   \n",
       "\n",
       "  contacts_during_campaign pdays previous_contacts  poutcome target_variable  \\\n",
       "0                        1    -1                 0   unknown               0   \n",
       "1                        1    -1                 0   unknown               0   \n",
       "2                        1    -1                 0   unknown               0   \n",
       "3                        1    -1                 0   unknown               0   \n",
       "4                        1    -1                 0   unknown               0   \n",
       "\n",
       "   AgeGroup      BalanceGroup  \n",
       "0     Adult  Positive Balance  \n",
       "1     Adult  Positive Balance  \n",
       "2     Adult  Positive Balance  \n",
       "3     Adult  Positive Balance  \n",
       "4     Adult  Positive Balance  \n",
       "\n",
       "[5 rows x 26 columns]"
      ]
     },
     "execution_count": 13,
     "metadata": {},
     "output_type": "execute_result"
    }
   ],
   "source": [
    "train1.loc[(train1.target_variable == 2),\"target_variable\"] = 'yes'\n",
    "train1.loc[(train1.target_variable == 1) ,\"target_variable\"] = 'no'\n",
    "train1.loc[(train1.target_variable == \"yes\"),\"target_variable\"] = 1\n",
    "train1.loc[(train1.target_variable == \"no\") ,\"target_variable\"] = 0\n",
    "train1.head()"
   ]
  },
  {
   "cell_type": "code",
   "execution_count": 14,
   "id": "c36ec30b",
   "metadata": {},
   "outputs": [],
   "source": [
    "indexNames= train1[train1['target_variable']==0].index\n",
    "train1.drop(indexNames, inplace= True)"
   ]
  },
  {
   "cell_type": "markdown",
   "id": "003cbf90",
   "metadata": {},
   "source": [
    "# Exploratory Data Analysis and Data Pre Processing"
   ]
  },
  {
   "cell_type": "code",
   "execution_count": 15,
   "id": "a89a4d54",
   "metadata": {},
   "outputs": [
    {
     "name": "stdout",
     "output_type": "stream",
     "text": [
      "Number of numerical variables:  7\n"
     ]
    }
   ],
   "source": [
    "# list of numerical variables\n",
    "numerical_features = [feature for feature in train1.columns if train1[feature].dtypes != 'O']\n",
    "\n",
    "print('Number of numerical variables: ', len(numerical_features))"
   ]
  },
  {
   "cell_type": "code",
   "execution_count": 16,
   "id": "fdfebde9",
   "metadata": {},
   "outputs": [
    {
     "name": "stdout",
     "output_type": "stream",
     "text": [
      "Discrete Variables Count: 1\n"
     ]
    }
   ],
   "source": [
    "## Numerical variables are usually of 2 type\n",
    "## 1. Continous variable and Discrete Variables\n",
    "\n",
    "discrete_feature=[feature for feature in numerical_features if len(train1[feature].unique())<25 and feature not in ['Customer_ID']]\n",
    "print(\"Discrete Variables Count: {}\".format(len(discrete_feature)))\n"
   ]
  },
  {
   "cell_type": "code",
   "execution_count": 17,
   "id": "827003fd",
   "metadata": {},
   "outputs": [
    {
     "name": "stdout",
     "output_type": "stream",
     "text": [
      "Continuous feature Count 6\n"
     ]
    }
   ],
   "source": [
    "continuous_feature=[feature for feature in numerical_features if feature not in discrete_feature+['Customer_ID']]\n",
    "print(\"Continuous feature Count {}\".format(len(continuous_feature)))"
   ]
  },
  {
   "cell_type": "code",
   "execution_count": 18,
   "id": "56501376",
   "metadata": {},
   "outputs": [],
   "source": [
    "categorical_features=[feature for feature in train1.columns if train1[feature].dtypes=='O'and feature not in ['Customer_ID']]"
   ]
  },
  {
   "cell_type": "code",
   "execution_count": 19,
   "id": "f5a3c46e",
   "metadata": {},
   "outputs": [
    {
     "data": {
      "image/png": "[encoded data removed]",
      "text/plain": [
       "<Figure size 2880x360 with 8 Axes>"
      ]
     },
     "metadata": {
      "needs_background": "light"
     },
     "output_type": "display_data"
    },
    {
     "data": {
      "image/png": "[encoded data removed]",
      "text/plain": [
       "<Figure size 4320x360 with 12 Axes>"
      ]
     },
     "metadata": {
      "needs_background": "light"
     },
     "output_type": "display_data"
    },
    {
     "data": {
      "image/png": "[encoded data removed]",
      "text/plain": [
       "<Figure size 1800x360 with 5 Axes>"
      ]
     },
     "metadata": {
      "needs_background": "light"
     },
     "output_type": "display_data"
    },
    {
     "data": {
      "image/png": "[encoded data removed]",
      "text/plain": [
       "<Figure size 720x360 with 2 Axes>"
      ]
     },
     "metadata": {
      "needs_background": "light"
     },
     "output_type": "display_data"
    },
    {
     "data": {
      "image/png": "[encoded data removed]",
      "text/plain": [
       "<Figure size 720x360 with 2 Axes>"
      ]
     },
     "metadata": {
      "needs_background": "light"
     },
     "output_type": "display_data"
    },
    {
     "data": {
      "image/png": "[encoded data removed]",
      "text/plain": [
       "<Figure size 720x360 with 2 Axes>"
      ]
     },
     "metadata": {
      "needs_background": "light"
     },
     "output_type": "display_data"
    },
    {
     "data": {
      "image/png": "[encoded data removed]",
      "text/plain": [
       "<Figure size 4320x360 with 12 Axes>"
      ]
     },
     "metadata": {
      "needs_background": "light"
     },
     "output_type": "display_data"
    },
    {
     "data": {
      "image/png": "[encoded data removed]",
      "text/plain": [
       "<Figure size 1080x360 with 3 Axes>"
      ]
     },
     "metadata": {
      "needs_background": "light"
     },
     "output_type": "display_data"
    },
    {
     "data": {
      "image/png": "[encoded data removed]",
      "text/plain": [
       "<Figure size 1440x360 with 4 Axes>"
      ]
     },
     "metadata": {
      "needs_background": "light"
     },
     "output_type": "display_data"
    },
    {
     "data": {
      "image/png": "[encoded data removed]",
      "text/plain": [
       "<Figure size 720x360 with 2 Axes>"
      ]
     },
     "metadata": {
      "needs_background": "light"
     },
     "output_type": "display_data"
    },
    {
     "data": {
      "image/png": "[encoded data removed]",
      "text/plain": [
       "<Figure size 720x360 with 2 Axes>"
      ]
     },
     "metadata": {
      "needs_background": "light"
     },
     "output_type": "display_data"
    },
    {
     "data": {
      "image/png": "[encoded data removed]",
      "text/plain": [
       "<Figure size 720x360 with 2 Axes>"
      ]
     },
     "metadata": {
      "needs_background": "light"
     },
     "output_type": "display_data"
    },
    {
     "data": {
      "image/png": "[encoded data removed]",
      "text/plain": [
       "<Figure size 1080x360 with 3 Axes>"
      ]
     },
     "metadata": {
      "needs_background": "light"
     },
     "output_type": "display_data"
    },
    {
     "data": {
      "image/png": "[encoded data removed]",
      "text/plain": [
       "<Figure size 4320x360 with 12 Axes>"
      ]
     },
     "metadata": {
      "needs_background": "light"
     },
     "output_type": "display_data"
    },
    {
     "data": {
      "image/png": "[encoded data removed]",
      "text/plain": [
       "<Figure size 1440x360 with 4 Axes>"
      ]
     },
     "metadata": {
      "needs_background": "light"
     },
     "output_type": "display_data"
    },
    {
     "data": {
      "image/png": "[encoded data removed]",
      "text/plain": [
       "<Figure size 360x360 with 1 Axes>"
      ]
     },
     "metadata": {
      "needs_background": "light"
     },
     "output_type": "display_data"
    },
    {
     "data": {
      "image/png": "[encoded data removed]",
      "text/plain": [
       "<Figure size 1080x360 with 3 Axes>"
      ]
     },
     "metadata": {
      "needs_background": "light"
     },
     "output_type": "display_data"
    },
    {
     "data": {
      "image/png": "[encoded data removed]",
      "text/plain": [
       "<Figure size 720x360 with 2 Axes>"
      ]
     },
     "metadata": {
      "needs_background": "light"
     },
     "output_type": "display_data"
    }
   ],
   "source": [
    "for categorical_feature in categorical_features:\n",
    "    sns.catplot(x='Contact', col=categorical_feature, kind='count', data= train1)\n",
    "plt.show()"
   ]
  },
  {
   "cell_type": "code",
   "execution_count": 20,
   "id": "480a140c",
   "metadata": {},
   "outputs": [
    {
     "data": {
      "text/html": [
       "<div>\n",
       "<style scoped>\n",
       "    .dataframe tbody tr th:only-of-type {\n",
       "        vertical-align: middle;\n",
       "    }\n",
       "\n",
       "    .dataframe tbody tr th {\n",
       "        vertical-align: top;\n",
       "    }\n",
       "\n",
       "    .dataframe thead th {\n",
       "        text-align: right;\n",
       "    }\n",
       "</style>\n",
       "<table border=\"1\" class=\"dataframe\">\n",
       "  <thead>\n",
       "    <tr style=\"text-align: right;\">\n",
       "      <th></th>\n",
       "      <th>Customer_ID</th>\n",
       "      <th>Nationality</th>\n",
       "      <th>State</th>\n",
       "      <th>Region</th>\n",
       "      <th>Num_dependants</th>\n",
       "      <th>Social_Media_presence</th>\n",
       "      <th>International_Travel_History</th>\n",
       "      <th>Gender</th>\n",
       "      <th>Months_at_Current_address</th>\n",
       "      <th>Job</th>\n",
       "      <th>...</th>\n",
       "      <th>Contact</th>\n",
       "      <th>Day</th>\n",
       "      <th>Month</th>\n",
       "      <th>Duration</th>\n",
       "      <th>contacts_during_campaign</th>\n",
       "      <th>previous_contacts</th>\n",
       "      <th>poutcome</th>\n",
       "      <th>target_variable</th>\n",
       "      <th>AgeGroup</th>\n",
       "      <th>BalanceGroup</th>\n",
       "    </tr>\n",
       "  </thead>\n",
       "  <tbody>\n",
       "    <tr>\n",
       "      <th>83</th>\n",
       "      <td>PQ100084</td>\n",
       "      <td>CA</td>\n",
       "      <td>AL</td>\n",
       "      <td>Region-4</td>\n",
       "      <td>2</td>\n",
       "      <td>Y</td>\n",
       "      <td>N</td>\n",
       "      <td>F</td>\n",
       "      <td>91</td>\n",
       "      <td>admin.</td>\n",
       "      <td>...</td>\n",
       "      <td>unknown</td>\n",
       "      <td>5</td>\n",
       "      <td>may</td>\n",
       "      <td>1042</td>\n",
       "      <td>1</td>\n",
       "      <td>0</td>\n",
       "      <td>unknown</td>\n",
       "      <td>1</td>\n",
       "      <td>Adult</td>\n",
       "      <td>Positive Balance</td>\n",
       "    </tr>\n",
       "    <tr>\n",
       "      <th>86</th>\n",
       "      <td>PQ100087</td>\n",
       "      <td>UK</td>\n",
       "      <td>AC</td>\n",
       "      <td>Region-2</td>\n",
       "      <td>1</td>\n",
       "      <td>N</td>\n",
       "      <td>Y</td>\n",
       "      <td>M</td>\n",
       "      <td>137</td>\n",
       "      <td>admin.</td>\n",
       "      <td>...</td>\n",
       "      <td>unknown</td>\n",
       "      <td>5</td>\n",
       "      <td>may</td>\n",
       "      <td>1467</td>\n",
       "      <td>1</td>\n",
       "      <td>0</td>\n",
       "      <td>unknown</td>\n",
       "      <td>1</td>\n",
       "      <td>Adult</td>\n",
       "      <td>Positive Balance</td>\n",
       "    </tr>\n",
       "    <tr>\n",
       "      <th>87</th>\n",
       "      <td>PQ100088</td>\n",
       "      <td>IR</td>\n",
       "      <td>AD</td>\n",
       "      <td>Region-3</td>\n",
       "      <td>1</td>\n",
       "      <td>N</td>\n",
       "      <td>N</td>\n",
       "      <td>F</td>\n",
       "      <td>103</td>\n",
       "      <td>technician</td>\n",
       "      <td>...</td>\n",
       "      <td>unknown</td>\n",
       "      <td>5</td>\n",
       "      <td>may</td>\n",
       "      <td>1389</td>\n",
       "      <td>1</td>\n",
       "      <td>0</td>\n",
       "      <td>unknown</td>\n",
       "      <td>1</td>\n",
       "      <td>Adult</td>\n",
       "      <td>Positive Balance</td>\n",
       "    </tr>\n",
       "    <tr>\n",
       "      <th>129</th>\n",
       "      <td>PQ100130</td>\n",
       "      <td>UK</td>\n",
       "      <td>AJ</td>\n",
       "      <td>Region-5</td>\n",
       "      <td>0</td>\n",
       "      <td>N</td>\n",
       "      <td>N</td>\n",
       "      <td>F</td>\n",
       "      <td>78</td>\n",
       "      <td>services</td>\n",
       "      <td>...</td>\n",
       "      <td>unknown</td>\n",
       "      <td>5</td>\n",
       "      <td>may</td>\n",
       "      <td>579</td>\n",
       "      <td>1</td>\n",
       "      <td>0</td>\n",
       "      <td>unknown</td>\n",
       "      <td>1</td>\n",
       "      <td>Adult</td>\n",
       "      <td>Positive Balance</td>\n",
       "    </tr>\n",
       "    <tr>\n",
       "      <th>168</th>\n",
       "      <td>PQ100169</td>\n",
       "      <td>IR</td>\n",
       "      <td>AA</td>\n",
       "      <td>Region-4</td>\n",
       "      <td>5</td>\n",
       "      <td>Y</td>\n",
       "      <td>Y</td>\n",
       "      <td>M</td>\n",
       "      <td>188</td>\n",
       "      <td>admin.</td>\n",
       "      <td>...</td>\n",
       "      <td>unknown</td>\n",
       "      <td>5</td>\n",
       "      <td>may</td>\n",
       "      <td>673</td>\n",
       "      <td>2</td>\n",
       "      <td>0</td>\n",
       "      <td>unknown</td>\n",
       "      <td>1</td>\n",
       "      <td>Adult</td>\n",
       "      <td>Positive Balance</td>\n",
       "    </tr>\n",
       "    <tr>\n",
       "      <th>...</th>\n",
       "      <td>...</td>\n",
       "      <td>...</td>\n",
       "      <td>...</td>\n",
       "      <td>...</td>\n",
       "      <td>...</td>\n",
       "      <td>...</td>\n",
       "      <td>...</td>\n",
       "      <td>...</td>\n",
       "      <td>...</td>\n",
       "      <td>...</td>\n",
       "      <td>...</td>\n",
       "      <td>...</td>\n",
       "      <td>...</td>\n",
       "      <td>...</td>\n",
       "      <td>...</td>\n",
       "      <td>...</td>\n",
       "      <td>...</td>\n",
       "      <td>...</td>\n",
       "      <td>...</td>\n",
       "      <td>...</td>\n",
       "      <td>...</td>\n",
       "    </tr>\n",
       "    <tr>\n",
       "      <th>135626</th>\n",
       "      <td>PS345205</td>\n",
       "      <td>IR</td>\n",
       "      <td>AA</td>\n",
       "      <td>Region-5</td>\n",
       "      <td>4</td>\n",
       "      <td>Y</td>\n",
       "      <td>Y</td>\n",
       "      <td>M</td>\n",
       "      <td>78</td>\n",
       "      <td>retired</td>\n",
       "      <td>...</td>\n",
       "      <td>cellular</td>\n",
       "      <td>17</td>\n",
       "      <td>nov</td>\n",
       "      <td>410</td>\n",
       "      <td>2</td>\n",
       "      <td>8</td>\n",
       "      <td>failure</td>\n",
       "      <td>1</td>\n",
       "      <td>SeniorCitizen</td>\n",
       "      <td>Positive Balance</td>\n",
       "    </tr>\n",
       "    <tr>\n",
       "      <th>135627</th>\n",
       "      <td>PS345206</td>\n",
       "      <td>MZ</td>\n",
       "      <td>AB</td>\n",
       "      <td>Region-1</td>\n",
       "      <td>0</td>\n",
       "      <td>N</td>\n",
       "      <td>N</td>\n",
       "      <td>F</td>\n",
       "      <td>112</td>\n",
       "      <td>technician</td>\n",
       "      <td>...</td>\n",
       "      <td>cellular</td>\n",
       "      <td>17</td>\n",
       "      <td>nov</td>\n",
       "      <td>392</td>\n",
       "      <td>3</td>\n",
       "      <td>0</td>\n",
       "      <td>unknown</td>\n",
       "      <td>1</td>\n",
       "      <td>Adult</td>\n",
       "      <td>Positive Balance</td>\n",
       "    </tr>\n",
       "    <tr>\n",
       "      <th>135628</th>\n",
       "      <td>PS345207</td>\n",
       "      <td>KE</td>\n",
       "      <td>AC</td>\n",
       "      <td>Region-2</td>\n",
       "      <td>5</td>\n",
       "      <td>N</td>\n",
       "      <td>Y</td>\n",
       "      <td>M</td>\n",
       "      <td>51</td>\n",
       "      <td>technician</td>\n",
       "      <td>...</td>\n",
       "      <td>cellular</td>\n",
       "      <td>18</td>\n",
       "      <td>nov</td>\n",
       "      <td>985</td>\n",
       "      <td>3</td>\n",
       "      <td>0</td>\n",
       "      <td>unknown</td>\n",
       "      <td>1</td>\n",
       "      <td>Adult</td>\n",
       "      <td>Positive Balance</td>\n",
       "    </tr>\n",
       "    <tr>\n",
       "      <th>135629</th>\n",
       "      <td>PS345208</td>\n",
       "      <td>IN</td>\n",
       "      <td>AD</td>\n",
       "      <td>Region-3</td>\n",
       "      <td>2</td>\n",
       "      <td>N</td>\n",
       "      <td>N</td>\n",
       "      <td>F</td>\n",
       "      <td>122</td>\n",
       "      <td>retired</td>\n",
       "      <td>...</td>\n",
       "      <td>cellular</td>\n",
       "      <td>19</td>\n",
       "      <td>nov</td>\n",
       "      <td>468</td>\n",
       "      <td>3</td>\n",
       "      <td>0</td>\n",
       "      <td>unknown</td>\n",
       "      <td>1</td>\n",
       "      <td>SeniorCitizen</td>\n",
       "      <td>Positive Balance</td>\n",
       "    </tr>\n",
       "    <tr>\n",
       "      <th>135630</th>\n",
       "      <td>PS345209</td>\n",
       "      <td>USA</td>\n",
       "      <td>AE</td>\n",
       "      <td>Region-4</td>\n",
       "      <td>2</td>\n",
       "      <td>Y</td>\n",
       "      <td>Y</td>\n",
       "      <td>M</td>\n",
       "      <td>171</td>\n",
       "      <td>retired</td>\n",
       "      <td>...</td>\n",
       "      <td>cellular</td>\n",
       "      <td>18</td>\n",
       "      <td>nov</td>\n",
       "      <td>1046</td>\n",
       "      <td>5</td>\n",
       "      <td>3</td>\n",
       "      <td>success</td>\n",
       "      <td>1</td>\n",
       "      <td>SeniorCitizen</td>\n",
       "      <td>Positive Balance</td>\n",
       "    </tr>\n",
       "  </tbody>\n",
       "</table>\n",
       "<p>13733 rows × 25 columns</p>\n",
       "</div>"
      ],
      "text/plain": [
       "       Customer_ID Nationality State    Region  Num_dependants  \\\n",
       "83        PQ100084          CA    AL  Region-4               2   \n",
       "86        PQ100087          UK    AC  Region-2               1   \n",
       "87        PQ100088          IR    AD  Region-3               1   \n",
       "129       PQ100130          UK    AJ  Region-5               0   \n",
       "168       PQ100169          IR    AA  Region-4               5   \n",
       "...            ...         ...   ...       ...             ...   \n",
       "135626    PS345205          IR    AA  Region-5               4   \n",
       "135627    PS345206          MZ    AB  Region-1               0   \n",
       "135628    PS345207          KE    AC  Region-2               5   \n",
       "135629    PS345208          IN    AD  Region-3               2   \n",
       "135630    PS345209         USA    AE  Region-4               2   \n",
       "\n",
       "       Social_Media_presence International_Travel_History Gender  \\\n",
       "83                         Y                            N      F   \n",
       "86                         N                            Y      M   \n",
       "87                         N                            N      F   \n",
       "129                        N                            N      F   \n",
       "168                        Y                            Y      M   \n",
       "...                      ...                          ...    ...   \n",
       "135626                     Y                            Y      M   \n",
       "135627                     N                            N      F   \n",
       "135628                     N                            Y      M   \n",
       "135629                     N                            N      F   \n",
       "135630                     Y                            Y      M   \n",
       "\n",
       "        Months_at_Current_address         Job  ...   Contact Day Month  \\\n",
       "83                             91      admin.  ...   unknown   5   may   \n",
       "86                            137      admin.  ...   unknown   5   may   \n",
       "87                            103  technician  ...   unknown   5   may   \n",
       "129                            78    services  ...   unknown   5   may   \n",
       "168                           188      admin.  ...   unknown   5   may   \n",
       "...                           ...         ...  ...       ...  ..   ...   \n",
       "135626                         78     retired  ...  cellular  17   nov   \n",
       "135627                        112  technician  ...  cellular  17   nov   \n",
       "135628                         51  technician  ...  cellular  18   nov   \n",
       "135629                        122     retired  ...  cellular  19   nov   \n",
       "135630                        171     retired  ...  cellular  18   nov   \n",
       "\n",
       "       Duration contacts_during_campaign previous_contacts  poutcome  \\\n",
       "83         1042                        1                 0   unknown   \n",
       "86         1467                        1                 0   unknown   \n",
       "87         1389                        1                 0   unknown   \n",
       "129         579                        1                 0   unknown   \n",
       "168         673                        2                 0   unknown   \n",
       "...         ...                      ...               ...       ...   \n",
       "135626      410                        2                 8   failure   \n",
       "135627      392                        3                 0   unknown   \n",
       "135628      985                        3                 0   unknown   \n",
       "135629      468                        3                 0   unknown   \n",
       "135630     1046                        5                 3   success   \n",
       "\n",
       "       target_variable       AgeGroup      BalanceGroup  \n",
       "83                   1          Adult  Positive Balance  \n",
       "86                   1          Adult  Positive Balance  \n",
       "87                   1          Adult  Positive Balance  \n",
       "129                  1          Adult  Positive Balance  \n",
       "168                  1          Adult  Positive Balance  \n",
       "...                ...            ...               ...  \n",
       "135626               1  SeniorCitizen  Positive Balance  \n",
       "135627               1          Adult  Positive Balance  \n",
       "135628               1          Adult  Positive Balance  \n",
       "135629               1  SeniorCitizen  Positive Balance  \n",
       "135630               1  SeniorCitizen  Positive Balance  \n",
       "\n",
       "[13733 rows x 25 columns]"
      ]
     },
     "execution_count": 20,
     "metadata": {},
     "output_type": "execute_result"
    }
   ],
   "source": [
    "#50% of values have pdays=-1\n",
    "train1.groupby(['Contact','pdays']).size()\n",
    "train1.drop('pdays', axis=1)"
   ]
  },
  {
   "cell_type": "code",
   "execution_count": 21,
   "id": "7e62415d",
   "metadata": {},
   "outputs": [
    {
     "data": {
      "text/plain": [
       "13733"
      ]
     },
     "execution_count": 21,
     "metadata": {},
     "output_type": "execute_result"
    }
   ],
   "source": [
    "len(train1.index)"
   ]
  },
  {
   "cell_type": "code",
   "execution_count": 22,
   "id": "2749d2f2",
   "metadata": {},
   "outputs": [
    {
     "data": {
      "text/plain": [
       "<AxesSubplot:xlabel='Contact', ylabel='count'>"
      ]
     },
     "execution_count": 22,
     "metadata": {},
     "output_type": "execute_result"
    },
    {
     "data": {
      "image/png": "[encoded data removed]",
      "text/plain": [
       "<Figure size 432x288 with 1 Axes>"
      ]
     },
     "metadata": {
      "needs_background": "light"
     },
     "output_type": "display_data"
    }
   ],
   "source": [
    "sns.countplot(x = 'Contact', data = train1, palette = 'Set3')"
   ]
  },
  {
   "cell_type": "code",
   "execution_count": 23,
   "id": "e2005afd",
   "metadata": {},
   "outputs": [],
   "source": [
    "train1.loc[(train1.Default== \"yes\"),\"Default\"] = 1\n",
    "train1.loc[(train1.Default== \"no\") ,\"Default\"] = 0\n",
    "train1.loc[(train1.Social_Media_presence == \"Y\"),\"Social_Media_presence\"] = 1\n",
    "train1.loc[(train1.Social_Media_presence == \"N\") ,\"Social_Media_presence\"] = 0\n",
    "train1.loc[(train1.Housing== \"yes\"),\"Housing\"] = 1\n",
    "train1.loc[(train1.Housing== \"no\") ,\"Housing\"] = 0\n",
    "train1.loc[(train1.Loan == \"yes\"),\"Loan\"] = 1\n",
    "train1.loc[(train1.Loan == \"no\") ,\"Loan\"] = 0\n",
    "train1.Default = train1.Default.astype(int)\n",
    "train1.Housing = train1.Housing.astype(int)\n",
    "train1.Loan = train1.Loan.astype(int)\n",
    "train1.Social_Media_presence = train1.Social_Media_presence.astype(int)\n",
    "train1.target_variable= train1.target_variable.astype(int)"
   ]
  },
  {
   "cell_type": "code",
   "execution_count": 24,
   "id": "9cb29eba",
   "metadata": {},
   "outputs": [],
   "source": [
    "train1.loc[(train1.International_Travel_History == \"Y\"),\"International_Travel_History\"] = 1\n",
    "train1.loc[(train1.International_Travel_History == \"N\") ,\"International_Travel_History\"] = 0\n",
    "train1.International_Travel_History = train1.International_Travel_History.astype(int)"
   ]
  },
  {
   "cell_type": "code",
   "execution_count": 25,
   "id": "f0cf4cb0",
   "metadata": {},
   "outputs": [
    {
     "data": {
      "text/html": [
       "<div>\n",
       "<style scoped>\n",
       "    .dataframe tbody tr th:only-of-type {\n",
       "        vertical-align: middle;\n",
       "    }\n",
       "\n",
       "    .dataframe tbody tr th {\n",
       "        vertical-align: top;\n",
       "    }\n",
       "\n",
       "    .dataframe thead th {\n",
       "        text-align: right;\n",
       "    }\n",
       "</style>\n",
       "<table border=\"1\" class=\"dataframe\">\n",
       "  <thead>\n",
       "    <tr style=\"text-align: right;\">\n",
       "      <th></th>\n",
       "      <th>Customer_ID</th>\n",
       "      <th>Num_dependants</th>\n",
       "      <th>Social_Media_presence</th>\n",
       "      <th>International_Travel_History</th>\n",
       "      <th>Months_at_Current_address</th>\n",
       "      <th>Default</th>\n",
       "      <th>Housing</th>\n",
       "      <th>Loan</th>\n",
       "      <th>Contact</th>\n",
       "      <th>Day</th>\n",
       "      <th>...</th>\n",
       "      <th>Month_may</th>\n",
       "      <th>Month_nov</th>\n",
       "      <th>Month_oct</th>\n",
       "      <th>Month_sep</th>\n",
       "      <th>poutcome_other</th>\n",
       "      <th>poutcome_success</th>\n",
       "      <th>poutcome_unknown</th>\n",
       "      <th>AgeGroup_SeniorCitizen</th>\n",
       "      <th>AgeGroup_Young</th>\n",
       "      <th>BalanceGroup_Zero Balance</th>\n",
       "    </tr>\n",
       "  </thead>\n",
       "  <tbody>\n",
       "    <tr>\n",
       "      <th>83</th>\n",
       "      <td>PQ100084</td>\n",
       "      <td>2</td>\n",
       "      <td>1</td>\n",
       "      <td>0</td>\n",
       "      <td>91</td>\n",
       "      <td>0</td>\n",
       "      <td>1</td>\n",
       "      <td>0</td>\n",
       "      <td>unknown</td>\n",
       "      <td>5</td>\n",
       "      <td>...</td>\n",
       "      <td>1</td>\n",
       "      <td>0</td>\n",
       "      <td>0</td>\n",
       "      <td>0</td>\n",
       "      <td>0</td>\n",
       "      <td>0</td>\n",
       "      <td>1</td>\n",
       "      <td>0</td>\n",
       "      <td>0</td>\n",
       "      <td>0</td>\n",
       "    </tr>\n",
       "    <tr>\n",
       "      <th>86</th>\n",
       "      <td>PQ100087</td>\n",
       "      <td>1</td>\n",
       "      <td>0</td>\n",
       "      <td>1</td>\n",
       "      <td>137</td>\n",
       "      <td>0</td>\n",
       "      <td>0</td>\n",
       "      <td>0</td>\n",
       "      <td>unknown</td>\n",
       "      <td>5</td>\n",
       "      <td>...</td>\n",
       "      <td>1</td>\n",
       "      <td>0</td>\n",
       "      <td>0</td>\n",
       "      <td>0</td>\n",
       "      <td>0</td>\n",
       "      <td>0</td>\n",
       "      <td>1</td>\n",
       "      <td>0</td>\n",
       "      <td>0</td>\n",
       "      <td>0</td>\n",
       "    </tr>\n",
       "    <tr>\n",
       "      <th>87</th>\n",
       "      <td>PQ100088</td>\n",
       "      <td>1</td>\n",
       "      <td>0</td>\n",
       "      <td>0</td>\n",
       "      <td>103</td>\n",
       "      <td>0</td>\n",
       "      <td>1</td>\n",
       "      <td>0</td>\n",
       "      <td>unknown</td>\n",
       "      <td>5</td>\n",
       "      <td>...</td>\n",
       "      <td>1</td>\n",
       "      <td>0</td>\n",
       "      <td>0</td>\n",
       "      <td>0</td>\n",
       "      <td>0</td>\n",
       "      <td>0</td>\n",
       "      <td>1</td>\n",
       "      <td>0</td>\n",
       "      <td>0</td>\n",
       "      <td>0</td>\n",
       "    </tr>\n",
       "    <tr>\n",
       "      <th>129</th>\n",
       "      <td>PQ100130</td>\n",
       "      <td>0</td>\n",
       "      <td>0</td>\n",
       "      <td>0</td>\n",
       "      <td>78</td>\n",
       "      <td>0</td>\n",
       "      <td>1</td>\n",
       "      <td>0</td>\n",
       "      <td>unknown</td>\n",
       "      <td>5</td>\n",
       "      <td>...</td>\n",
       "      <td>1</td>\n",
       "      <td>0</td>\n",
       "      <td>0</td>\n",
       "      <td>0</td>\n",
       "      <td>0</td>\n",
       "      <td>0</td>\n",
       "      <td>1</td>\n",
       "      <td>0</td>\n",
       "      <td>0</td>\n",
       "      <td>0</td>\n",
       "    </tr>\n",
       "    <tr>\n",
       "      <th>168</th>\n",
       "      <td>PQ100169</td>\n",
       "      <td>5</td>\n",
       "      <td>1</td>\n",
       "      <td>1</td>\n",
       "      <td>188</td>\n",
       "      <td>0</td>\n",
       "      <td>0</td>\n",
       "      <td>0</td>\n",
       "      <td>unknown</td>\n",
       "      <td>5</td>\n",
       "      <td>...</td>\n",
       "      <td>1</td>\n",
       "      <td>0</td>\n",
       "      <td>0</td>\n",
       "      <td>0</td>\n",
       "      <td>0</td>\n",
       "      <td>0</td>\n",
       "      <td>1</td>\n",
       "      <td>0</td>\n",
       "      <td>0</td>\n",
       "      <td>0</td>\n",
       "    </tr>\n",
       "  </tbody>\n",
       "</table>\n",
       "<p>5 rows × 71 columns</p>\n",
       "</div>"
      ],
      "text/plain": [
       "    Customer_ID  Num_dependants  Social_Media_presence  \\\n",
       "83     PQ100084               2                      1   \n",
       "86     PQ100087               1                      0   \n",
       "87     PQ100088               1                      0   \n",
       "129    PQ100130               0                      0   \n",
       "168    PQ100169               5                      1   \n",
       "\n",
       "     International_Travel_History  Months_at_Current_address  Default  \\\n",
       "83                              0                         91        0   \n",
       "86                              1                        137        0   \n",
       "87                              0                        103        0   \n",
       "129                             0                         78        0   \n",
       "168                             1                        188        0   \n",
       "\n",
       "     Housing  Loan  Contact  Day  ...  Month_may  Month_nov  Month_oct  \\\n",
       "83         1     0  unknown    5  ...          1          0          0   \n",
       "86         0     0  unknown    5  ...          1          0          0   \n",
       "87         1     0  unknown    5  ...          1          0          0   \n",
       "129        1     0  unknown    5  ...          1          0          0   \n",
       "168        0     0  unknown    5  ...          1          0          0   \n",
       "\n",
       "     Month_sep  poutcome_other  poutcome_success  poutcome_unknown  \\\n",
       "83           0               0                 0                 1   \n",
       "86           0               0                 0                 1   \n",
       "87           0               0                 0                 1   \n",
       "129          0               0                 0                 1   \n",
       "168          0               0                 0                 1   \n",
       "\n",
       "     AgeGroup_SeniorCitizen  AgeGroup_Young  BalanceGroup_Zero Balance  \n",
       "83                        0               0                          0  \n",
       "86                        0               0                          0  \n",
       "87                        0               0                          0  \n",
       "129                       0               0                          0  \n",
       "168                       0               0                          0  \n",
       "\n",
       "[5 rows x 71 columns]"
      ]
     },
     "execution_count": 25,
     "metadata": {},
     "output_type": "execute_result"
    }
   ],
   "source": [
    "new_train = pd.get_dummies(train1,columns = ['Nationality','State','Gender','Region','Job','Marital Status','Education','Month','poutcome','AgeGroup','BalanceGroup'], drop_first = True)\n",
    "new_train.head()"
   ]
  },
  {
   "cell_type": "code",
   "execution_count": 26,
   "id": "2780374a",
   "metadata": {},
   "outputs": [],
   "source": [
    "train2=new_train.drop(['Customer_ID','target_variable','pdays'],axis=1)"
   ]
  },
  {
   "cell_type": "code",
   "execution_count": 27,
   "id": "b9e3e781",
   "metadata": {},
   "outputs": [
    {
     "data": {
      "text/plain": [
       "Num_dependants                  int64\n",
       "Social_Media_presence           int32\n",
       "International_Travel_History    int32\n",
       "Months_at_Current_address       int64\n",
       "Default                         int32\n",
       "                                ...  \n",
       "poutcome_success                uint8\n",
       "poutcome_unknown                uint8\n",
       "AgeGroup_SeniorCitizen          uint8\n",
       "AgeGroup_Young                  uint8\n",
       "BalanceGroup_Zero Balance       uint8\n",
       "Length: 68, dtype: object"
      ]
     },
     "execution_count": 27,
     "metadata": {},
     "output_type": "execute_result"
    }
   ],
   "source": [
    "train2.dtypes"
   ]
  },
  {
   "cell_type": "markdown",
   "id": "52607296",
   "metadata": {},
   "source": [
    "# Model Building"
   ]
  },
  {
   "cell_type": "code",
   "execution_count": 28,
   "id": "e209de7a",
   "metadata": {},
   "outputs": [],
   "source": [
    "X = train2.drop('Contact', axis = 1)\n",
    "y = train2['Contact']\n"
   ]
  },
  {
   "cell_type": "markdown",
   "id": "9521a6aa",
   "metadata": {},
   "source": [
    "Feature Importance"
   ]
  },
  {
   "cell_type": "code",
   "execution_count": 29,
   "id": "a6cbdfdb",
   "metadata": {},
   "outputs": [
    {
     "data": {
      "text/plain": [
       "SelectFromModel(estimator=RandomForestClassifier())"
      ]
     },
     "execution_count": 29,
     "metadata": {},
     "output_type": "execute_result"
    }
   ],
   "source": [
    "sel = SelectFromModel(RandomForestClassifier(n_estimators = 100))\n",
    "sel.fit(X, y)"
   ]
  },
  {
   "cell_type": "code",
   "execution_count": 30,
   "id": "409332eb",
   "metadata": {},
   "outputs": [
    {
     "data": {
      "text/plain": [
       "array([ True, False, False,  True, False,  True, False,  True,  True,\n",
       "        True,  True, False, False, False, False, False, False, False,\n",
       "       False, False, False, False, False, False, False, False, False,\n",
       "       False, False, False, False, False, False, False, False, False,\n",
       "       False, False, False, False, False, False, False, False, False,\n",
       "       False, False, False, False, False, False, False, False, False,\n",
       "       False,  True, False,  True, False, False, False, False, False,\n",
       "        True,  True, False, False])"
      ]
     },
     "execution_count": 30,
     "metadata": {},
     "output_type": "execute_result"
    }
   ],
   "source": [
    "sel.get_support()"
   ]
  },
  {
   "cell_type": "code",
   "execution_count": 31,
   "id": "1e2160b2",
   "metadata": {},
   "outputs": [
    {
     "name": "stdout",
     "output_type": "stream",
     "text": [
      "total features: 67\n",
      "selected features: 11\n"
     ]
    }
   ],
   "source": [
    "selected_feat = X.columns[(sel.get_support())]\n",
    "\n",
    "# let's print some stats\n",
    "print('total features: {}'.format((X.shape[1])))\n",
    "print('selected features: {}'.format(len(selected_feat)))"
   ]
  },
  {
   "cell_type": "code",
   "execution_count": 32,
   "id": "6e0e56b7",
   "metadata": {},
   "outputs": [
    {
     "data": {
      "text/plain": [
       "Index(['Num_dependants', 'Months_at_Current_address', 'Housing', 'Day',\n",
       "       'Duration', 'contacts_during_campaign', 'previous_contacts',\n",
       "       'Month_jun', 'Month_may', 'poutcome_unknown', 'AgeGroup_SeniorCitizen'],\n",
       "      dtype='object')"
      ]
     },
     "execution_count": 32,
     "metadata": {},
     "output_type": "execute_result"
    }
   ],
   "source": [
    "selected_feat"
   ]
  },
  {
   "cell_type": "code",
   "execution_count": 33,
   "id": "e13b1b40",
   "metadata": {},
   "outputs": [],
   "source": [
    "X=X[selected_feat]"
   ]
  },
  {
   "cell_type": "markdown",
   "id": "7abcd301",
   "metadata": {},
   "source": [
    "Model 1"
   ]
  },
  {
   "cell_type": "code",
   "execution_count": 34,
   "id": "ed742ab4",
   "metadata": {},
   "outputs": [
    {
     "name": "stdout",
     "output_type": "stream",
     "text": [
      "The Training Accuracy is:  0.8280055341149057\n",
      "[[8981 1615  747]\n",
      " [   0 1072    0]\n",
      " [   0    0 1318]]\n",
      "              precision    recall  f1-score   support\n",
      "\n",
      "    cellular       1.00      0.79      0.88     11343\n",
      "   telephone       0.40      1.00      0.57      1072\n",
      "     unknown       0.64      1.00      0.78      1318\n",
      "\n",
      "    accuracy                           0.83     13733\n",
      "   macro avg       0.68      0.93      0.74     13733\n",
      "weighted avg       0.92      0.83      0.85     13733\n",
      "\n"
     ]
    }
   ],
   "source": [
    "from imblearn.ensemble import BalancedRandomForestClassifier\n",
    "rf = BalancedRandomForestClassifier()\n",
    "rf.fit(X, y)\n",
    "print(\"The Training Accuracy is: \", rf.score(X, y))\n",
    "y_pred2 = rf.predict(X)\n",
    "print(confusion_matrix(y, y_pred2))\n",
    "print(classification_report(y, y_pred2))"
   ]
  },
  {
   "cell_type": "markdown",
   "id": "d1ffa3a0",
   "metadata": {},
   "source": [
    "Model 2(Final Model)"
   ]
  },
  {
   "cell_type": "code",
   "execution_count": 35,
   "id": "fa7114ca",
   "metadata": {},
   "outputs": [
    {
     "name": "stdout",
     "output_type": "stream",
     "text": [
      "The Training Accuracy is:  0.8781038374717833\n",
      "[[9704 1113  526]\n",
      " [  18 1054    0]\n",
      " [  14    3 1301]]\n",
      "              precision    recall  f1-score   support\n",
      "\n",
      "    cellular       1.00      0.86      0.92     11343\n",
      "   telephone       0.49      0.98      0.65      1072\n",
      "     unknown       0.71      0.99      0.83      1318\n",
      "\n",
      "    accuracy                           0.88     13733\n",
      "   macro avg       0.73      0.94      0.80     13733\n",
      "weighted avg       0.93      0.88      0.89     13733\n",
      "\n"
     ]
    }
   ],
   "source": [
    "from imblearn.ensemble import BalancedBaggingClassifier\n",
    "# define model\n",
    "model = BalancedBaggingClassifier()\n",
    "model.fit(X, y)\n",
    "print(\"The Training Accuracy is: \", model.score(X, y))\n",
    "y_pred3 = model.predict(X)\n",
    "print(confusion_matrix(y, y_pred3))\n",
    "print(classification_report(y, y_pred3))"
   ]
  },
  {
   "cell_type": "markdown",
   "id": "1914f035",
   "metadata": {},
   "source": [
    "Cross Validation Score"
   ]
  },
  {
   "cell_type": "code",
   "execution_count": 36,
   "id": "00e27e1b",
   "metadata": {},
   "outputs": [],
   "source": [
    "score=cross_val_score(model,X, y,cv=5)"
   ]
  },
  {
   "cell_type": "code",
   "execution_count": 37,
   "id": "79f77f44",
   "metadata": {},
   "outputs": [
    {
     "data": {
      "text/plain": [
       "0.7951654072203777"
      ]
     },
     "execution_count": 37,
     "metadata": {},
     "output_type": "execute_result"
    }
   ],
   "source": [
    "score.mean()"
   ]
  },
  {
   "cell_type": "markdown",
   "id": "c24d840e",
   "metadata": {},
   "source": [
    "Confusion Matrix and ROC Curve"
   ]
  },
  {
   "cell_type": "code",
   "execution_count": 49,
   "id": "8afcb6c7",
   "metadata": {},
   "outputs": [
    {
     "data": {
      "image/png": "[encoded data removed]",
      "text/plain": [
       "<Figure size 432x288 with 2 Axes>"
      ]
     },
     "metadata": {
      "needs_background": "light"
     },
     "output_type": "display_data"
    }
   ],
   "source": [
    "# Confusion Matrix function\n",
    "from sklearn.preprocessing import LabelEncoder\n",
    "y = LabelEncoder().fit_transform(y)\n",
    "y_pred3 = LabelEncoder().fit_transform(y_pred3)\n",
    "def plot_confusion_matrix(cm, classes=None, title='Confusion matrix'):\n",
    "    \"\"\"Plots a confusion matrix.\"\"\"\n",
    "    if classes is not None:\n",
    "        sns.heatmap(cm, cmap=\"YlGnBu\", xticklabels=classes, yticklabels=classes, vmin=0., vmax=1., annot=True, annot_kws={'size':20})\n",
    "    else:\n",
    "        sns.heatmap(cm, vmin=0., vmax=1.)\n",
    "    plt.title(title)\n",
    "    plt.ylabel('True label')\n",
    "    plt.xlabel('Predicted label')\n",
    "\n",
    "\n",
    "# Visualizing cm\n",
    "\n",
    "cm = confusion_matrix(y, y_pred3)\n",
    "cm_norm = cm / cm.sum(axis=1).reshape(-1,1)\n",
    "\n",
    "plot_confusion_matrix(cm_norm, classes = model.classes_, title='Confusion matrix')"
   ]
  },
  {
   "cell_type": "code",
   "execution_count": 38,
   "id": "1ff546b1",
   "metadata": {},
   "outputs": [
    {
     "data": {
      "image/png": "[encoded data removed]",
      "text/plain": [
       "<Figure size 432x288 with 1 Axes>"
      ]
     },
     "metadata": {
      "needs_background": "light"
     },
     "output_type": "display_data"
    }
   ],
   "source": [
    "from sklearn.metrics import roc_curve, auc\n",
    "from sklearn.preprocessing import LabelEncoder\n",
    "#Compute ROC curve and ROC area for each class\n",
    "y = LabelEncoder().fit_transform(y)\n",
    "pred = model.predict(X)\n",
    "pred_prob = model.predict_proba(X)\n",
    "\n",
    "# roc curve for classes\n",
    "fpr = {}\n",
    "tpr = {}\n",
    "thresh ={}\n",
    "\n",
    "n_class = 3\n",
    "\n",
    "for i in range(n_class):    \n",
    "    fpr[i], tpr[i], thresh[i] = roc_curve(y, pred_prob[:,i], pos_label=i)\n",
    "    \n",
    "# plotting    \n",
    "plt.plot(fpr[0], tpr[0], linestyle='--',color='orange', label='Class 0 vs Rest')\n",
    "plt.plot(fpr[1], tpr[1], linestyle='--',color='red', label='Class 1 vs Rest')\n",
    "plt.plot(fpr[2], tpr[2], linestyle='--',color='blue', label='Class 2 vs Rest')\n",
    "plt.title('Multiclass ROC curve')\n",
    "plt.xlabel('False Positive Rate')\n",
    "plt.ylabel('True Positive rate')\n",
    "plt.legend(loc='best')\n",
    "plt.savefig('Multiclass ROC',dpi=500);   "
   ]
  },
  {
   "cell_type": "markdown",
   "id": "46fdb7cf",
   "metadata": {},
   "source": [
    "# Model run on Test set"
   ]
  },
  {
   "cell_type": "code",
   "execution_count": 39,
   "id": "6778474d",
   "metadata": {},
   "outputs": [],
   "source": [
    "test.loc[(test.Default == \"yes\"),\"Default\"] = 1\n",
    "test.loc[(test.Default == \"no\") ,\"Default\"] = 0\n",
    "test.loc[(test.Social_Media_presence == \"Y\"),\"Social_Media_presence\"] = 1\n",
    "test.loc[(test.Social_Media_presence == \"N\") ,\"Social_Media_presence\"] = 0\n",
    "test.loc[(test.International_Travel_History == \"Y\"),\"International_Travel_History\"] = 1\n",
    "test.loc[(test.International_Travel_History == \"N\") ,\"International_Travel_History\"] = 0\n",
    "test.loc[(test.Gender == \"M\"),\"Gender\"] = 1\n",
    "test.loc[(test.Gender == \"F\") ,\"Gender\"] = 0\n",
    "test.loc[(test.Housing == \"yes\"),\"Housing\"] = 1\n",
    "test.loc[(test.Housing == \"no\") ,\"Housing\"] = 0\n",
    "test.loc[(test.Loan == \"yes\"),\"Loan\"] = 1\n",
    "test.loc[(test.Loan == \"no\") ,\"Loan\"] = 0"
   ]
  },
  {
   "cell_type": "code",
   "execution_count": 40,
   "id": "700e325b",
   "metadata": {},
   "outputs": [
    {
     "data": {
      "text/html": [
       "<div>\n",
       "<style scoped>\n",
       "    .dataframe tbody tr th:only-of-type {\n",
       "        vertical-align: middle;\n",
       "    }\n",
       "\n",
       "    .dataframe tbody tr th {\n",
       "        vertical-align: top;\n",
       "    }\n",
       "\n",
       "    .dataframe thead th {\n",
       "        text-align: right;\n",
       "    }\n",
       "</style>\n",
       "<table border=\"1\" class=\"dataframe\">\n",
       "  <thead>\n",
       "    <tr style=\"text-align: right;\">\n",
       "      <th></th>\n",
       "      <th>Customer_ID</th>\n",
       "      <th>Num_dependants</th>\n",
       "      <th>Social_Media_presence</th>\n",
       "      <th>International_Travel_History</th>\n",
       "      <th>Months_at_Current_address</th>\n",
       "      <th>Age</th>\n",
       "      <th>Default</th>\n",
       "      <th>Balance</th>\n",
       "      <th>Housing</th>\n",
       "      <th>Loan</th>\n",
       "      <th>...</th>\n",
       "      <th>poutcome_failure</th>\n",
       "      <th>poutcome_other</th>\n",
       "      <th>poutcome_success</th>\n",
       "      <th>poutcome_unknown</th>\n",
       "      <th>AgeGroup_Young</th>\n",
       "      <th>AgeGroup_Adult</th>\n",
       "      <th>AgeGroup_SeniorCitizen</th>\n",
       "      <th>BalanceGroup_Negative Balance</th>\n",
       "      <th>BalanceGroup_Zero Balance</th>\n",
       "      <th>BalanceGroup_Positive Balance</th>\n",
       "    </tr>\n",
       "  </thead>\n",
       "  <tbody>\n",
       "    <tr>\n",
       "      <th>0</th>\n",
       "      <td>PT400001</td>\n",
       "      <td>2</td>\n",
       "      <td>1</td>\n",
       "      <td>1</td>\n",
       "      <td>183</td>\n",
       "      <td>56</td>\n",
       "      <td>0</td>\n",
       "      <td>2187</td>\n",
       "      <td>1</td>\n",
       "      <td>0</td>\n",
       "      <td>...</td>\n",
       "      <td>0</td>\n",
       "      <td>0</td>\n",
       "      <td>0</td>\n",
       "      <td>1</td>\n",
       "      <td>0</td>\n",
       "      <td>1</td>\n",
       "      <td>0</td>\n",
       "      <td>0</td>\n",
       "      <td>0</td>\n",
       "      <td>1</td>\n",
       "    </tr>\n",
       "    <tr>\n",
       "      <th>1</th>\n",
       "      <td>PT400002</td>\n",
       "      <td>1</td>\n",
       "      <td>0</td>\n",
       "      <td>0</td>\n",
       "      <td>150</td>\n",
       "      <td>47</td>\n",
       "      <td>0</td>\n",
       "      <td>93</td>\n",
       "      <td>1</td>\n",
       "      <td>0</td>\n",
       "      <td>...</td>\n",
       "      <td>0</td>\n",
       "      <td>0</td>\n",
       "      <td>0</td>\n",
       "      <td>1</td>\n",
       "      <td>0</td>\n",
       "      <td>1</td>\n",
       "      <td>0</td>\n",
       "      <td>0</td>\n",
       "      <td>0</td>\n",
       "      <td>1</td>\n",
       "    </tr>\n",
       "    <tr>\n",
       "      <th>2</th>\n",
       "      <td>PT400003</td>\n",
       "      <td>1</td>\n",
       "      <td>0</td>\n",
       "      <td>1</td>\n",
       "      <td>131</td>\n",
       "      <td>32</td>\n",
       "      <td>0</td>\n",
       "      <td>13</td>\n",
       "      <td>1</td>\n",
       "      <td>1</td>\n",
       "      <td>...</td>\n",
       "      <td>0</td>\n",
       "      <td>0</td>\n",
       "      <td>0</td>\n",
       "      <td>1</td>\n",
       "      <td>0</td>\n",
       "      <td>1</td>\n",
       "      <td>0</td>\n",
       "      <td>0</td>\n",
       "      <td>0</td>\n",
       "      <td>1</td>\n",
       "    </tr>\n",
       "    <tr>\n",
       "      <th>3</th>\n",
       "      <td>PT400004</td>\n",
       "      <td>1</td>\n",
       "      <td>1</td>\n",
       "      <td>0</td>\n",
       "      <td>158</td>\n",
       "      <td>48</td>\n",
       "      <td>0</td>\n",
       "      <td>1564</td>\n",
       "      <td>1</td>\n",
       "      <td>0</td>\n",
       "      <td>...</td>\n",
       "      <td>0</td>\n",
       "      <td>0</td>\n",
       "      <td>0</td>\n",
       "      <td>1</td>\n",
       "      <td>0</td>\n",
       "      <td>1</td>\n",
       "      <td>0</td>\n",
       "      <td>0</td>\n",
       "      <td>0</td>\n",
       "      <td>1</td>\n",
       "    </tr>\n",
       "    <tr>\n",
       "      <th>4</th>\n",
       "      <td>PT400005</td>\n",
       "      <td>0</td>\n",
       "      <td>1</td>\n",
       "      <td>1</td>\n",
       "      <td>104</td>\n",
       "      <td>34</td>\n",
       "      <td>0</td>\n",
       "      <td>-2</td>\n",
       "      <td>0</td>\n",
       "      <td>0</td>\n",
       "      <td>...</td>\n",
       "      <td>0</td>\n",
       "      <td>0</td>\n",
       "      <td>0</td>\n",
       "      <td>1</td>\n",
       "      <td>0</td>\n",
       "      <td>1</td>\n",
       "      <td>0</td>\n",
       "      <td>0</td>\n",
       "      <td>0</td>\n",
       "      <td>1</td>\n",
       "    </tr>\n",
       "  </tbody>\n",
       "</table>\n",
       "<p>5 rows × 84 columns</p>\n",
       "</div>"
      ],
      "text/plain": [
       "  Customer_ID  Num_dependants Social_Media_presence  \\\n",
       "0    PT400001               2                     1   \n",
       "1    PT400002               1                     0   \n",
       "2    PT400003               1                     0   \n",
       "3    PT400004               1                     1   \n",
       "4    PT400005               0                     1   \n",
       "\n",
       "  International_Travel_History  Months_at_Current_address  Age Default  \\\n",
       "0                            1                        183   56       0   \n",
       "1                            0                        150   47       0   \n",
       "2                            1                        131   32       0   \n",
       "3                            0                        158   48       0   \n",
       "4                            1                        104   34       0   \n",
       "\n",
       "   Balance Housing Loan  ... poutcome_failure  poutcome_other  \\\n",
       "0     2187       1    0  ...                0               0   \n",
       "1       93       1    0  ...                0               0   \n",
       "2       13       1    1  ...                0               0   \n",
       "3     1564       1    0  ...                0               0   \n",
       "4       -2       0    0  ...                0               0   \n",
       "\n",
       "   poutcome_success  poutcome_unknown  AgeGroup_Young  AgeGroup_Adult  \\\n",
       "0                 0                 1               0               1   \n",
       "1                 0                 1               0               1   \n",
       "2                 0                 1               0               1   \n",
       "3                 0                 1               0               1   \n",
       "4                 0                 1               0               1   \n",
       "\n",
       "   AgeGroup_SeniorCitizen  BalanceGroup_Negative Balance  \\\n",
       "0                       0                              0   \n",
       "1                       0                              0   \n",
       "2                       0                              0   \n",
       "3                       0                              0   \n",
       "4                       0                              0   \n",
       "\n",
       "   BalanceGroup_Zero Balance  BalanceGroup_Positive Balance  \n",
       "0                          0                              1  \n",
       "1                          0                              1  \n",
       "2                          0                              1  \n",
       "3                          0                              1  \n",
       "4                          0                              1  \n",
       "\n",
       "[5 rows x 84 columns]"
      ]
     },
     "execution_count": 40,
     "metadata": {},
     "output_type": "execute_result"
    }
   ],
   "source": [
    "\n",
    "test1= pd.get_dummies(test,columns = ['Nationality','State','Gender','Region','Job','Marital Status','Education','Month','poutcome','AgeGroup','BalanceGroup'])\n",
    "test1.head()"
   ]
  },
  {
   "cell_type": "code",
   "execution_count": 41,
   "id": "074c7885",
   "metadata": {},
   "outputs": [],
   "source": [
    "x=test1[selected_feat]"
   ]
  },
  {
   "cell_type": "code",
   "execution_count": 42,
   "id": "80fc929b",
   "metadata": {},
   "outputs": [],
   "source": [
    "y_prediction=model.predict(x)"
   ]
  },
  {
   "cell_type": "code",
   "execution_count": 43,
   "id": "37df4e89",
   "metadata": {},
   "outputs": [],
   "source": [
    "Contact_pred= pd.DataFrame(y_prediction)\n",
    "v=Contact_pred.rename(columns={0:'Contact_pred'})"
   ]
  },
  {
   "cell_type": "code",
   "execution_count": 44,
   "id": "6219c8c5",
   "metadata": {},
   "outputs": [
    {
     "name": "stdout",
     "output_type": "stream",
     "text": [
      "      Contact_pred\n",
      "0         cellular\n",
      "1         cellular\n",
      "2         cellular\n",
      "3         cellular\n",
      "4         cellular\n",
      "...            ...\n",
      "45206     cellular\n",
      "45207    telephone\n",
      "45208     cellular\n",
      "45209     cellular\n",
      "45210     cellular\n",
      "\n",
      "[45211 rows x 1 columns]\n"
     ]
    }
   ],
   "source": [
    "print(v)"
   ]
  },
  {
   "cell_type": "code",
   "execution_count": 45,
   "id": "314dbefc",
   "metadata": {},
   "outputs": [],
   "source": [
    "df=pd.DataFrame(test)\n",
    "result=pd.merge(df,v,how = 'left',left_index = True, right_index = True)\n",
    "rslt=result.drop(['Age','Balance'],axis=1)"
   ]
  },
  {
   "cell_type": "code",
   "execution_count": 50,
   "id": "9e929a3e",
   "metadata": {},
   "outputs": [],
   "source": [
    "rslt.to_csv('Important(Most)2.csv',index=False)"
   ]
  },
  {
   "cell_type": "code",
   "execution_count": null,
   "id": "3d9967c3",
   "metadata": {},
   "outputs": [],
   "source": []
  }
 ],
 "metadata": {
  "kernelspec": {
   "display_name": "Python 3 (ipykernel)",
   "language": "python",
   "name": "python3"
  },
  "language_info": {
   "codemirror_mode": {
    "name": "ipython",
    "version": 3
   },
   "file_extension": ".py",
   "mimetype": "text/x-python",
   "name": "python",
   "nbconvert_exporter": "python",
   "pygments_lexer": "ipython3",
   "version": "3.8.5"
  }
 },
 "nbformat": 4,
 "nbformat_minor": 5
}
